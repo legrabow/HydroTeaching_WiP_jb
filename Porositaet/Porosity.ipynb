{
 "cells": [
  {
   "cell_type": "code",
   "execution_count": 1,
   "id": "f7b8465e",
   "metadata": {},
   "outputs": [],
   "source": [
    "import matplotlib.pyplot as plt\n",
    "from matplotlib.patches import Rectangle, Polygon\n",
    "import numpy as np\n",
    "import json\n",
    "from ipywidgets import *\n",
    "from IPython.display import display,clear_output\n",
    "from matplotlib.patches import Patch"
   ]
  },
  {
   "cell_type": "code",
   "execution_count": 2,
   "id": "ec90f278",
   "metadata": {},
   "outputs": [],
   "source": [
    "def plot_box(portion_solid, portion_water):\n",
    "    \"\"\"\n",
    "    Plot a box with solid, water and air in it\n",
    "    \n",
    "    Keyword Arguments:\n",
    "    portion_solid -- portion of total height to plot for solid\n",
    "    portion_water -- portion of total height to plot for water\n",
    "    \"\"\"\n",
    "    \n",
    "    \n",
    "    # Prepare plot\n",
    "    fig = plt.figure(figsize=(7,7))\n",
    "    ax = plt.subplot(111)\n",
    "    \n",
    "    # Increase axes width and equalize plot\n",
    "    ax.set_aspect(\"equal\")\n",
    "    for axis in ['top','bottom','left','right']:\n",
    "        ax.spines[axis].set_linewidth(3)\n",
    "    ax.axes.xaxis.set_visible(False)\n",
    "    ax.axes.yaxis.set_visible(False)\n",
    "\n",
    "    # Define dummy boundaries for plot\n",
    "    sandbox_height = 1\n",
    "    sandbox_width = 1\n",
    "    ax.set_xlim(0, sandbox_width)\n",
    "    ax.set_ylim(0, sandbox_height)\n",
    "    \n",
    "    # Plot solid\n",
    "    ax.add_patch(Rectangle((0,0), sandbox_width, portion_solid,\n",
    "                 color = \"gold\"))\n",
    "    \n",
    "    # Plot water\n",
    "    ax.add_patch(Rectangle((0,portion_solid), sandbox_width, portion_water,\n",
    "                 color = \"skyblue\", alpha=0.8))\n",
    "    \n",
    "    # The rest will be air...\n",
    "    \n",
    "    # Plot legend\n",
    "    legend_elements = [Patch(facecolor='white', edgecolor='black',\n",
    "                         label='Air'),\n",
    "                   Patch(facecolor='skyblue', edgecolor='black',\n",
    "                         label='Water'),\n",
    "                       Patch(facecolor='gold', edgecolor='black',\n",
    "                         label='Solid')]\n",
    "    ax.legend(handles=legend_elements, bbox_to_anchor=(1.1, 0.6),  prop={'size': 15})\n",
    "    \n",
    "    \n",
    "    plt.show()"
   ]
  },
  {
   "cell_type": "code",
   "execution_count": 3,
   "id": "20883326",
   "metadata": {},
   "outputs": [
    {
     "data": {
      "application/vnd.jupyter.widget-view+json": {
       "model_id": "23c8f82c0db54747aea4db12a418ad0d",
       "version_major": 2,
       "version_minor": 0
      },
      "text/plain": [
       "interactive(children=(FloatSlider(value=0.3, continuous_update=False, description='Portion of Solid in %', max…"
      ]
     },
     "metadata": {},
     "output_type": "display_data"
    },
    {
     "data": {
      "application/vnd.jupyter.widget-view+json": {
       "model_id": "5abdbecfa7e240329665b2a51ef15109",
       "version_major": 2,
       "version_minor": 0
      },
      "text/plain": [
       "FloatText(value=0.0, description='What will the total porosity be?', style=DescriptionStyle(description_width=…"
      ]
     },
     "metadata": {},
     "output_type": "display_data"
    }
   ],
   "source": [
    "# Define the sliders for the portions of solid and water\n",
    "portion_solid = widgets.FloatSlider(value=0.3, min=0, max=1.0, step=0.01, description='Portion of Solid in %',\n",
    "                                   continuous_update = False, style= {'description_width': 'initial'})\n",
    "\n",
    "portion_water = widgets.FloatSlider(value=0.4, min=0, max=1.0, step=0.01, description='Portion of Water in %',\n",
    "                                   continuous_update = False, style= {'description_width': 'initial'})\n",
    "\n",
    "# Define the field for the question and the answer\n",
    "question = widgets.FloatText(\n",
    "    value=0,\n",
    "    description='What will the total porosity be?',\n",
    "    style= {'description_width': 'initial'})\n",
    "\n",
    "answer = widgets.Valid(\n",
    "    value=None,\n",
    "    description='',\n",
    "    disabled = True,\n",
    "    style= {'description_width': 'initial'}\n",
    ")\n",
    "\n",
    "# Tell not to show the answer before the question has not been answered\n",
    "answered = False\n",
    "\n",
    "# Couple the portion of solid and water such that they are never greater than one together\n",
    "def change_solid(change):\n",
    "    \"\"\"\n",
    "    Adjust the portion of solid once the portion of water and solid togehter is greater than one\n",
    "    \n",
    "    Keyword Arguments:\n",
    "    change -- ipywidgets listening object when the water portion is adjusted\n",
    "    \"\"\"\n",
    "    if change[\"new\"] + portion_solid.value > 1:\n",
    "        portion_solid.value = 1 - change[\"new\"]\n",
    "def change_water(change):\n",
    "    \"\"\"\n",
    "    djust the portion of water once the portion of water and solid togehter is greater than one\n",
    "    \n",
    "    Keyword Arguments:\n",
    "    change -- ipywidgets listening object when the solid portion is adjusted\n",
    "    \"\"\"\n",
    "    if change[\"new\"] + portion_water.value > 1:\n",
    "        portion_water.value = 1 - change[\"new\"]\n",
    "portion_solid.observe(change_water, names='value')\n",
    "portion_water.observe(change_solid, names='value')\n",
    "        \n",
    "# Couple the question input with the answer output\n",
    "def check_answer(change):\n",
    "    \"\"\"\n",
    "    Check the inputed answer against the calculated answer and update the answer field\n",
    "    \n",
    "    Keyword Arguments:\n",
    "    change -- ipywidgets listening object when the answer is inputed\n",
    "    \"\"\"\n",
    "    global answered\n",
    "    tot_poro = 1 - portion_solid.value\n",
    "    if not answered:\n",
    "        display(answer)\n",
    "        answered = True\n",
    "    if float(change[\"new\"]) == tot_poro:\n",
    "        answer.description = \"Right!\"\n",
    "        answer.value = True\n",
    "    else:\n",
    "        answer.description = f\"Wrong! Try again...\"\n",
    "        answer.value = False\n",
    "question.observe(check_answer, names='value')\n",
    "\n",
    "# Start the plot and the question/answer field\n",
    "interact(plot_box,\n",
    "         portion_solid = portion_solid,\n",
    "         portion_water = portion_water)\n",
    "display(question)\n"
   ]
  },
  {
   "cell_type": "code",
   "execution_count": null,
   "id": "76894108",
   "metadata": {},
   "outputs": [],
   "source": []
  }
 ],
 "metadata": {
  "kernelspec": {
   "display_name": "Python 3 (ipykernel)",
   "language": "python",
   "name": "python3"
  },
  "language_info": {
   "codemirror_mode": {
    "name": "ipython",
    "version": 3
   },
   "file_extension": ".py",
   "mimetype": "text/x-python",
   "name": "python",
   "nbconvert_exporter": "python",
   "pygments_lexer": "ipython3",
   "version": "3.10.4"
  }
 },
 "nbformat": 4,
 "nbformat_minor": 5
}
