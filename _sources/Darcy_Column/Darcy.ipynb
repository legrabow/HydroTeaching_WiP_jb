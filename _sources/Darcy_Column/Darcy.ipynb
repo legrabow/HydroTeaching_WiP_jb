{
 "cells": [
  {
   "cell_type": "markdown",
   "id": "ffa737c8",
   "metadata": {
    "tags": [
     "remove-cell"
    ]
   },
   "source": [
    "<img src='../IMG/TUD_logo.png' align='right' width='15%'></img>"
   ]
  },
  {
   "cell_type": "markdown",
   "id": "1f5846cd",
   "metadata": {},
   "source": [
    "# Darcy Law\n"
   ]
  },
  {
   "cell_type": "code",
   "execution_count": 1,
   "id": "e5d60eb3",
   "metadata": {
    "tags": [
     "thebe-init",
     "hide-cell"
    ]
   },
   "outputs": [],
   "source": [
    "import matplotlib.pyplot as plt\n",
    "from matplotlib.patches import Rectangle, Polygon\n",
    "import numpy as np\n",
    "import json\n",
    "from ipywidgets import *\n",
    "from IPython.display import display,clear_output\n",
    "\n",
    "material_dict= {\n",
    "        \"Sand\":{\n",
    "            \"color\":\"gold\",\n",
    "            \"k\":1E-4\n",
    "        },\n",
    "        \"Gravel\":{\n",
    "            \"color\":\"gray\",\n",
    "            \"k\":1E-2\n",
    "        },\n",
    "        \"Clay\":{\n",
    "            \"color\":\"peru\",\n",
    "            \"k\":1E-6\n",
    "        }\n",
    "    }\n",
    "actions = [\"Add Observation\", \"Reset Observations\", \"Calculate RMSE\"]\n",
    "q_tracking = []\n",
    "h_diff_tracking = []"
   ]
  },
  {
   "cell_type": "code",
   "execution_count": 2,
   "id": "dfa395ab",
   "metadata": {
    "tags": [
     "thebe-init",
     "hide-cell"
    ]
   },
   "outputs": [],
   "source": [
    "#english = True\n",
    "\n",
    "#with open(\"/home/grabow/Dropbox/SHK/Jupyter/HydroTeaching/dictionary.json\", 'r') as f:\n",
    "#    language = json.load(f)\n",
    "#if english:\n",
    "#    ylabel = language[\"Druckpotential\"] + \" (m)\"\n",
    "#else:\n",
    "ylabel = \"Druckpotential\" + \" (m)\""
   ]
  },
  {
   "cell_type": "code",
   "execution_count": 3,
   "id": "841d26dc",
   "metadata": {
    "tags": [
     "thebe-init",
     "hide-cell"
    ]
   },
   "outputs": [],
   "source": [
    "def plot_triangle(x, y, ax, stretch):\n",
    "    \"\"\"\n",
    "    Plot a water triangle\n",
    "    \n",
    "    Keyword Arguments:\n",
    "    x -- x postion of triangle tip (water table)\n",
    "    y -- y position of triangle tip\n",
    "    ax -- axes to plot on\n",
    "    stetch -- height and half the base length of the symmetric triangle\n",
    "    \"\"\"\n",
    "    tgl = [[x, y],[x - stretch, y + stretch],[x + stretch, y + stretch]]\n",
    "    ax.add_patch(Polygon(tgl))\n",
    "    ax.hlines(y, x - stretch, x + stretch)\n",
    "    ax.hlines(y - stretch * 0.5, x - stretch * 0.66, x + stretch * 0.66)\n",
    "    ax.hlines(y - stretch, x - stretch * 0.33, x + stretch * 0.33)\n",
    "    \n",
    "\n",
    "def plot_darcy_column(h1, h2, material):\n",
    "    \"\"\"\n",
    "    Plot a Darcy column\n",
    "    \n",
    "    Keyword Arguments:\n",
    "    h1 -- head inside column, m\n",
    "    h2 -- head of outlet, m\n",
    "    material -- material inside column. Defined by material_dict\n",
    "    \n",
    "    TODO: Avoid globaliszing variables to speak to observation plot\n",
    "    \"\"\"\n",
    "    \n",
    "    global q, h1_out, h2_out\n",
    "    h1_out = h1\n",
    "    h2_out = h2\n",
    "    \n",
    "    # Prepare plot\n",
    "    fig = plt.figure(figsize=(10,10))\n",
    "    ax = plt.subplot(111)\n",
    "    ax.get_xaxis().set_visible(False)\n",
    "    ax.set_aspect(\"equal\")\n",
    "    ax.spines['top'].set_visible(False)\n",
    "    ax.spines['right'].set_visible(False)\n",
    "    ax.spines['bottom'].set_visible(False)\n",
    "    ax.set_ylabel(ylabel, fontsize=13)\n",
    "    \n",
    "    # Define lenghts in m\n",
    "    column_height = 15\n",
    "    column_width = 5\n",
    "    sediment_height = 5\n",
    "    distance_gauge_column = gauge_width = 0.9\n",
    "    overlap_left = 0.5\n",
    "    arrow_length_max = 2.\n",
    "    arrow_width_max = .3\n",
    "    \n",
    "    # Define verticies\n",
    "    p1 = (0, column_height)\n",
    "    p2 = (column_width, column_height)\n",
    "    p3 = (column_width, gauge_width)\n",
    "    p4 = (column_width + distance_gauge_column, gauge_width)\n",
    "    p5 = (column_width + distance_gauge_column, gauge_width + h2)\n",
    "    p6 = (column_width + distance_gauge_column + gauge_width + overlap_left, gauge_width + h2)\n",
    "    p7 = (column_width + distance_gauge_column + gauge_width + overlap_left, h2)\n",
    "    p8 = (column_width + distance_gauge_column + gauge_width, h2)\n",
    "    p9 = (column_width + distance_gauge_column + gauge_width, 0)\n",
    "    p10 = (0,0)\n",
    "    p11 = (column_width,0)\n",
    "    \n",
    "    # Plot material\n",
    "    ax.add_patch(Rectangle((0,0), sediment_height, column_width,\n",
    "                 color = material_dict[material][\"color\"]))\n",
    "    \n",
    "    # Plot water column\n",
    "    ax.add_patch(Rectangle((0,sediment_height), column_width, h1 - sediment_height,\n",
    "                 color = \"skyblue\", alpha=0.8))\n",
    "    \n",
    "    # Plot lengths\n",
    "    shape = [p2, p3, p4, p5, p6, p7, p8, p9, p10, p1]\n",
    "    x, y = zip(*shape)\n",
    "    plt.plot(x, y, c=\"black\")\n",
    "    \n",
    "    # add triangle\n",
    "    stretch = column_width * 0.05\n",
    "    x_dist = column_width / 2\n",
    "    plot_triangle(x_dist, h1, ax, stretch)\n",
    "    \n",
    "    \n",
    "    if h1 > h2:\n",
    "        # Calculate discharge after Darcy\n",
    "        q = material_dict[material][\"k\"] * (h1 - h2)\n",
    "        q_max = material_dict[material][\"k\"] * column_height\n",
    "        # Plot arrow for discharge\n",
    "        arrow_length = arrow_length_max * q / q_max\n",
    "        arrow_width = arrow_width_max * q / q_max\n",
    "        plt.arrow(p6[0],\n",
    "                 h2 + 0.5 * gauge_width, arrow_length, 0,\n",
    "                 length_includes_head = True,\n",
    "                 width = arrow_width)\n",
    "        txt = \"Q = \" + str(round(q, 6)) + r\" $\\frac{m^3}{s}$\"\n",
    "        plt.text(p6[0] + arrow_length,p6[1], txt, fontsize=13)\n",
    "        gauge = [p3, p4, p5, p6, p7, p8, p9, p11]\n",
    "    else:\n",
    "        p12 = (column_width+distance_gauge_column,h1)\n",
    "        p13 = (column_width+distance_gauge_column+gauge_width,h1)\n",
    "        plt.hlines(p12[1], p12[0],p13[0])\n",
    "        x_dist = column_width + distance_gauge_column + gauge_width / 2\n",
    "        plot_triangle(x_dist, h1, ax, stretch)\n",
    "        gauge = [p3, p4,p12, p13,p9, p11]\n",
    "    ax.add_patch(Polygon(gauge, color=\"skyblue\", alpha=0.8))\n",
    "    "
   ]
  },
  {
   "cell_type": "code",
   "execution_count": 4,
   "id": "311453e8",
   "metadata": {
    "tags": [
     "thebe-init"
    ]
   },
   "outputs": [
    {
     "data": {
      "application/vnd.jupyter.widget-view+json": {
       "model_id": "a34edd1c6e7c4cd6befc791a5c71d9c3",
       "version_major": 2,
       "version_minor": 0
      },
      "text/plain": [
       "interactive(children=(BoundedFloatText(value=11.0, description='H1', max=15.0, min=5.0, step=1.0), BoundedFloa…"
      ]
     },
     "metadata": {},
     "output_type": "display_data"
    },
    {
     "data": {
      "text/plain": [
       "<function __main__.plot_darcy_column(h1, h2, material)>"
      ]
     },
     "execution_count": 4,
     "metadata": {},
     "output_type": "execute_result"
    }
   ],
   "source": [
    "interact(plot_darcy_column,\n",
    "         h1 = widgets.BoundedFloatText(value=11, min=5, max=15, step=1, description='H1', disabled=False),\n",
    "         h2 = widgets.BoundedFloatText(value=0, min=0, max=15, step=1, description='H2:', disabled=False),\n",
    "         material = widgets.Dropdown(options=material_dict.keys(),value=\"Sand\", description=\"Material\"))\n"
   ]
  },
  {
   "cell_type": "code",
   "execution_count": 5,
   "id": "231a48ea",
   "metadata": {
    "scrolled": false,
    "tags": [
     "remove-cell"
    ]
   },
   "outputs": [],
   "source": [
    "##%matplotlib inline\n",
    "\n",
    "## To prevent automatic figure display when execution of the cell ends\n",
    "#%config InlineBackend.close_figures=False \n",
    "\n",
    "#plt.ioff()\n",
    "#fig2 = plt.figure(figsize=(10,10))\n",
    "#ax2 = plt.subplot(111)\n",
    "#plt.grid()\n",
    "\n",
    "#def plot_observation():\n",
    "#    \"\"\"\n",
    "#    Plot head difference vs discharge and calucate the regression\n",
    "#    \n",
    "#    Keyword Arguments:\n",
    "#    h1 -- head inside column, m\n",
    "#    h2 -- head of outlet, m\n",
    "#    q -- discharge, m^3/s\n",
    "#    \"\"\"\n",
    "\n",
    "#    # Prepare plot\n",
    "#    ax2.clear()\n",
    "#    ax2.scatter(h_diff_tracking, q_tracking)\n",
    "#    with output:\n",
    "#        clear_output(wait=True)\n",
    "#        display(ax2.figure)\n",
    "        \n",
    "#    plt.show()\n",
    "\n",
    "\n",
    "#def add_obsvervation(_):\n",
    "#    global q_tracking, h_diff_tracking\n",
    "#    q_tracking.append(q)\n",
    "#    h_diff_tracking.append(h1_out - h2_out)\n",
    "#    plot_observation()\n",
    "    \n",
    "#def clear_observation(_):\n",
    "#    global q_tracking, h_diff_tracking\n",
    "#    q_tracking = []\n",
    "#    h_diff_tracking = []\n",
    "#    plot_observation()\n",
    "    \n",
    "#def calc_res(_):\n",
    "#    pass\n",
    "    \n",
    "#output = widgets.Output()\n",
    "\n",
    "#button1 = widgets.Button(description='Add Observation')\n",
    "#button2 = widgets.Button(description='Clear Observations')\n",
    "#button3 = widgets.Button(description='Calculate linear regression')\n",
    "\n",
    "## displaying button and its output together\n",
    "#vbox = widgets.VBox([button1,button2, button3, output])\n",
    "#display(vbox)\n",
    "\n",
    "#button1.on_click(add_obsvervation)\n",
    "#button2.on_click(clear_observation)\n",
    "#button3.on_click(calc_res)\n",
    "#clear_observation(None)"
   ]
  },
  {
   "cell_type": "markdown",
   "id": "e1c57d38",
   "metadata": {
    "tags": [
     "remove-cell"
    ]
   },
   "source": [
    "<hr>\n",
    "&copy; 2022 | Thomas Reimann\n",
    "<a rel=\"license\" href=\"http://creativecommons.org/licenses/by/4.0/\"><img style=\"float: right\" alt=\"Creative Commons Lizenzvertrag\" style=\"border-width:0\" src=\"https://i.creativecommons.org/l/by/4.0/88x31.png\" /></a>"
   ]
  }
 ],
 "metadata": {
  "celltoolbar": "Tags",
  "kernelspec": {
   "display_name": "Python 3 (ipykernel)",
   "language": "python",
   "name": "python3"
  },
  "language_info": {
   "codemirror_mode": {
    "name": "ipython",
    "version": 3
   },
   "file_extension": ".py",
   "mimetype": "text/x-python",
   "name": "python",
   "nbconvert_exporter": "python",
   "pygments_lexer": "ipython3",
   "version": "3.10.5"
  }
 },
 "nbformat": 4,
 "nbformat_minor": 5
}
