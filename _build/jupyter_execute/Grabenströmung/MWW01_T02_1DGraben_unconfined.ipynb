{
 "cells": [
  {
   "cell_type": "markdown",
   "metadata": {},
   "source": [
    "<img src='../IMG/TUD_logo.png' align='right' width='15%'></img>\n",
    "\n",
    "[Zurück zur Übersicht MWW01 - Grundwasserbewirtschaftung mit Computermodellen](../MWW01/T02/.ipynb)   \n",
    "[Zurück zur Übersicht T02 - Konzeptionelle Modelle](./MWW01_T02_00_index.ipynb)"
   ]
  },
  {
   "cell_type": "markdown",
   "metadata": {},
   "source": [
    "# Analytical solution for 1D unconfined flow with two defined head boundaries\n",
    "\n",
    "## Equations\n",
    "\n",
    "$h(x)=\\sqrt{H_l^2-\\frac{H_l^2-H_r^2}{L}x+\\frac{q_n}{K}x(L-x)}$\n"
   ]
  },
  {
   "cell_type": "markdown",
   "metadata": {},
   "source": [
    "Developed by: Thomas.Reimann@tu-dresden.de / Sophie.Pfoertner@mailbox.tu-dresden.de / Anne.Pfoertner@mailbox.tu-dresden.de\n",
    "Last change: 2020 11 03\n",
    "Current state: Funktioniert und sieht schon gut aus\n",
    "ToDo:\n",
    "\n",
    "- Gitter / Hilfslinien optional\n",
    "- Wasserscheide markieren / x-Wert plotten\n",
    "- Wasserdreieck skalieren (wenn y_scale variiert)\n",
    "- Textbox (recharge): position skalieren (wenn y_scale ändert)\n",
    "- Code optimieren (TR)\n",
    "- Text ergänzen (TR)"
   ]
  },
  {
   "cell_type": "code",
   "execution_count": 1,
   "metadata": {},
   "outputs": [
    {
     "ename": "ModuleNotFoundError",
     "evalue": "No module named 'scipy'",
     "output_type": "error",
     "traceback": [
      "\u001b[0;31m---------------------------------------------------------------------------\u001b[0m",
      "\u001b[0;31mModuleNotFoundError\u001b[0m                       Traceback (most recent call last)",
      "Input \u001b[0;32mIn [1]\u001b[0m, in \u001b[0;36m<cell line: 2>\u001b[0;34m()\u001b[0m\n\u001b[1;32m      1\u001b[0m \u001b[38;5;66;03m# Initialize librarys\u001b[39;00m\n\u001b[0;32m----> 2\u001b[0m \u001b[38;5;28;01mfrom\u001b[39;00m \u001b[38;5;21;01mscipy\u001b[39;00m\u001b[38;5;21;01m.\u001b[39;00m\u001b[38;5;21;01mspecial\u001b[39;00m \u001b[38;5;28;01mimport\u001b[39;00m erfc, erf\n\u001b[1;32m      3\u001b[0m \u001b[38;5;28;01mimport\u001b[39;00m \u001b[38;5;21;01mmatplotlib\u001b[39;00m\n\u001b[1;32m      4\u001b[0m \u001b[38;5;28;01mimport\u001b[39;00m \u001b[38;5;21;01mmatplotlib\u001b[39;00m\u001b[38;5;21;01m.\u001b[39;00m\u001b[38;5;21;01mpyplot\u001b[39;00m \u001b[38;5;28;01mas\u001b[39;00m \u001b[38;5;21;01mplt\u001b[39;00m\n",
      "\u001b[0;31mModuleNotFoundError\u001b[0m: No module named 'scipy'"
     ]
    }
   ],
   "source": [
    "# Initialize librarys\n",
    "from scipy.special import erfc, erf\n",
    "import matplotlib\n",
    "import matplotlib.pyplot as plt\n",
    "import numpy as np\n",
    "import math\n",
    "from ipywidgets import *"
   ]
  },
  {
   "cell_type": "code",
   "execution_count": 2,
   "metadata": {},
   "outputs": [],
   "source": [
    "# Definition of the function\n",
    "def head(hl, hr, L, R, K,y_scale):\n",
    "    x = np.arange(0, L,L/1000)\n",
    "    R=R/1000/365.25/86400\n",
    "    h=(hl**2-(hl**2-hr**2)/L*x+(R/K*x*(L-x)))**0.5\n",
    "    \n",
    "    # PLOT FIGURE\n",
    "    fig = plt.figure(figsize=(9,6))\n",
    "    ax = fig.add_subplot(1, 1, 1)\n",
    "    ax.plot(x,h)\n",
    "    ax.set(xlabel='x', ylabel='head',title='Hydraulic head for 1D unconfined flow')\n",
    "    ax.fill_between(x,0,h, facecolor='lightblue')\n",
    "    \n",
    "    # BOUNDARY CONDITIONS hl, hr\n",
    "    ax.vlines(0, 0, hl, linewidth = 10, color='b')\n",
    "    ax.vlines(L, 0, hr, linewidth = 10, color='b')\n",
    "    \n",
    "    # MAKE 'WATER'-TRIANGLE\n",
    "    h_arrow = (hl**2-(hl**2-hr**2)/L*(L*0.96)+(R/K*(L*0.96)*(L-(L*0.96))))**0.5  #water level at arrow\n",
    "    ax.arrow(L*0.96,(h_arrow+(h_arrow*0.002)), 0, -0.01, fc=\"k\", ec=\"k\", head_width=(L*0.015), head_length=(h_arrow*0.0015))\n",
    "    ax.hlines(y= h_arrow-(h_arrow*0.0005), xmin=L*0.95, xmax=L*0.97, colors='blue')   \n",
    "    ax.hlines(y= h_arrow-(h_arrow*0.001), xmin=L*0.955, xmax=L*0.965, colors='blue')\n",
    "\n",
    "    #ARROWS FOR RECHARGE \n",
    "    if R != 0:\n",
    "        head_length=(R*86400*365.25*1000*0.002)*y_scale/2\n",
    "        h_rch1 = (hl**2-(hl**2-hr**2)/L*(L*0.25)+(R/K*(L*0.25)*(L-(L*0.25))))**0.5  #water level at arrow for Recharge Posotion 1\n",
    "        ax.arrow(L*0.25,(h_rch1+head_length), 0, -0.01, fc=\"k\", ec=\"k\", head_width=(head_length*300/y_scale), head_length=head_length)\n",
    "        h_rch2 = (hl**2-(hl**2-hr**2)/L*(L*0.50)+(R/K*(L*0.50)*(L-(L*0.50))))**0.5  #water level at arrow for Recharge Postition 2\n",
    "        ax.arrow(L*0.50,(h_rch2+head_length), 0, -0.01, fc=\"k\", ec=\"k\", head_width=(head_length*300/y_scale), head_length=head_length)\n",
    "        h_rch3 = (hl**2-(hl**2-hr**2)/L*(L*0.75)+(R/K*(L*0.75)*(L-(L*0.75))))**0.5  #water level at arrow for Recharge Position 3\n",
    "        ax.arrow(L*0.75,(h_rch3+head_length), 0, -0.01, fc=\"k\", ec=\"k\", head_width=(head_length*300/y_scale), head_length=head_length)\n",
    "\n",
    "    \n",
    "    #Grundwasserscheide\n",
    "    max_y = max(h)\n",
    "    max_x = x[h.argmax()]\n",
    "    R_min_ms=K*abs(hl**2-hr**2)/L**2\n",
    "    if R>R_min_ms:\n",
    "        plt.vlines(max_x,0,max_y, color=\"r\")\n",
    "\n",
    "    plt.ylim(hl*(1-y_scale/100),hr*(1+y_scale/100))\n",
    "    plt.xlim(-50,L+50)\n",
    "    plt.text(L, (hr*1.016), 'R: {} m/s '.format(R), horizontalalignment='right', bbox=dict(boxstyle=\"square\", facecolor='grey'))\n",
    "    ax.grid()\n",
    "    plt.show()\n",
    "    #print('R: ',R, ' m/s')\n"
   ]
  },
  {
   "cell_type": "code",
   "execution_count": 3,
   "metadata": {},
   "outputs": [
    {
     "data": {
      "application/vnd.jupyter.widget-view+json": {
       "model_id": "e03f8fcc57714a1bb43fd8ed09d28c1f",
       "version_major": 2,
       "version_minor": 0
      },
      "text/plain": [
       "interactive(children=(BoundedFloatText(value=150.0, description='h left:', max=1000.0, step=1.0), BoundedFloat…"
      ]
     },
     "metadata": {},
     "output_type": "display_data"
    },
    {
     "data": {
      "text/plain": [
       "<function __main__.head(hl, hr, L, R, K, y_scale)>"
      ]
     },
     "execution_count": 3,
     "metadata": {},
     "output_type": "execute_result"
    }
   ],
   "source": [
    "# Computation\n",
    "\n",
    "interact(head,\n",
    "         y_scale = widgets.BoundedFloatText(value=3, min=1, max=100, step=1, description='y_scale:', disabled=False),\n",
    "         hl=widgets.BoundedFloatText(value=150, min=0, max=1000, step=1, description='h left:', disabled=False),\n",
    "         hr=widgets.BoundedFloatText(value=152, min=0, max=1000, step=1, description='h right:', disabled=False),\n",
    "         L= widgets.BoundedFloatText(value=2500,min=0, max=20000,step=100, description='L:' , disabled=False),\n",
    "         R=(-500,500,10),\n",
    "         K=widgets.FloatLogSlider(value=0.0001,base=10,min=-6, max=-2, step=0.1,readout=True,readout_format='.2e'))"
   ]
  },
  {
   "cell_type": "markdown",
   "metadata": {},
   "source": [
    "<hr>\n",
    "&copy; 2021 | Thomas Reimann\n",
    "<a rel=\"license\" href=\"http://creativecommons.org/licenses/by/4.0/\"><img style=\"float: right\" alt=\"Creative Commons Lizenzvertrag\" style=\"border-width:0\" src=\"https://i.creativecommons.org/l/by/4.0/88x31.png\" /></a>"
   ]
  }
 ],
 "metadata": {
  "celltoolbar": "Slideshow",
  "kernelspec": {
   "display_name": "Python 3 (ipykernel)",
   "language": "python",
   "name": "python3"
  },
  "language_info": {
   "codemirror_mode": {
    "name": "ipython",
    "version": 3
   },
   "file_extension": ".py",
   "mimetype": "text/x-python",
   "name": "python",
   "nbconvert_exporter": "python",
   "pygments_lexer": "ipython3",
   "version": "3.10.5"
  }
 },
 "nbformat": 4,
 "nbformat_minor": 2
}