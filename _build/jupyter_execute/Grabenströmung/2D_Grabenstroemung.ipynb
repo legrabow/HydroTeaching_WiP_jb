{
 "cells": [
  {
   "cell_type": "markdown",
   "id": "b4fc3d54",
   "metadata": {},
   "source": [
    "<img src='../IMG/TUD_logo.png' align='right' width='15%'></img>\n",
    "\n",
    "\n",
    "Developed by: Thomas.Reimann@tu-dresden.de / Leonard.Grabow@mailbox.tu-dresden.de\n",
    "<br>Last change: 2022 05 15\n",
    "\n",
    "TODO:\n",
    "- define 0 and N in the model plot\n",
    "- align table to left\n"
   ]
  },
  {
   "cell_type": "code",
   "execution_count": 1,
   "id": "0fda61cc",
   "metadata": {},
   "outputs": [
    {
     "ename": "ModuleNotFoundError",
     "evalue": "No module named 'scipy'",
     "output_type": "error",
     "traceback": [
      "\u001b[0;31m---------------------------------------------------------------------------\u001b[0m",
      "\u001b[0;31mModuleNotFoundError\u001b[0m                       Traceback (most recent call last)",
      "Input \u001b[0;32mIn [1]\u001b[0m, in \u001b[0;36m<cell line: 4>\u001b[0;34m()\u001b[0m\n\u001b[1;32m      1\u001b[0m \u001b[38;5;66;03m# Initialize librarys\u001b[39;00m\n\u001b[1;32m      3\u001b[0m \u001b[38;5;28;01mimport\u001b[39;00m \u001b[38;5;21;01mos\u001b[39;00m\n\u001b[0;32m----> 4\u001b[0m \u001b[38;5;28;01mfrom\u001b[39;00m \u001b[38;5;21;01mscipy\u001b[39;00m\u001b[38;5;21;01m.\u001b[39;00m\u001b[38;5;21;01mspecial\u001b[39;00m \u001b[38;5;28;01mimport\u001b[39;00m erfc, erf\n\u001b[1;32m      5\u001b[0m \u001b[38;5;28;01mimport\u001b[39;00m \u001b[38;5;21;01mmatplotlib\u001b[39;00m\n\u001b[1;32m      6\u001b[0m \u001b[38;5;28;01mimport\u001b[39;00m \u001b[38;5;21;01mmatplotlib\u001b[39;00m\u001b[38;5;21;01m.\u001b[39;00m\u001b[38;5;21;01mpyplot\u001b[39;00m \u001b[38;5;28;01mas\u001b[39;00m \u001b[38;5;21;01mplt\u001b[39;00m\n",
      "\u001b[0;31mModuleNotFoundError\u001b[0m: No module named 'scipy'"
     ]
    }
   ],
   "source": [
    "# Initialize librarys\n",
    "\n",
    "import os\n",
    "from scipy.special import erfc, erf\n",
    "import matplotlib\n",
    "import matplotlib.pyplot as plt\n",
    "import numpy as np\n",
    "import math\n",
    "from ipywidgets import *\n",
    "import flopy"
   ]
  },
  {
   "cell_type": "markdown",
   "id": "a6939351",
   "metadata": {},
   "source": [
    "# 2D unconfined flow with defined head boundaries\n",
    "\n",
    "In the [previous section](../HydroTeaching/MWW01/T02/MWW01_T02_1DGraben_unconfined_Aufgabe.ipynb) you learned how to formulate the problem of 1D, unconfined, steady-state flow with two given Dirichlet boundaries. We derived an analytical solution that describes the head over distance. In this section, we want to go one step further and expand the problem into the x-y plane.\n",
    "\n",
    "Assume a rectangular model area in which each side has a defined head:\n",
    "\n"
   ]
  },
  {
   "cell_type": "code",
   "execution_count": 3,
   "id": "58352d41",
   "metadata": {
    "scrolled": false
   },
   "outputs": [
    {
     "data": {
      "image/png": "[encoded data removed]",
      "text/plain": [
       "<Figure size 360x360 with 1 Axes>"
      ]
     },
     "metadata": {
      "filenames": {
       "image/png": "/home/grabow/git/HydroTeaching_WiP_jb/_build/jupyter_execute/Grabenströmung/2D_Grabenstroemung_3_0.png"
      }
     },
     "output_type": "display_data"
    }
   ],
   "source": [
    "fig = plt.figure(figsize=(5,5))\n",
    "ax = plt.subplot(111)\n",
    "\n",
    "plt.rcParams[\"hatch.linewidth\"] = 4\n",
    "\n",
    "ax.set_facecolor(\"wheat\")\n",
    "ax.set_xlim([1,2])\n",
    "ax.set_ylim([1,2])\n",
    "for axis in ['top','bottom','left','right']:\n",
    "    ax.spines[axis].set_linewidth(4)\n",
    "ax.xaxis.set_ticklabels([])\n",
    "ax.yaxis.set_ticklabels([])\n",
    "ax.yaxis.set_ticks([])\n",
    "ax.xaxis.set_ticks([])\n",
    "plt.text(2.05,1.5,r\"$h_l$\", fontsize=15)\n",
    "plt.text(0.91,1.5,r\"$h_r$\", fontsize=15)\n",
    "plt.text(1.5,2.05,r\"$h_o$\", fontsize=15)\n",
    "plt.text(1.5,0.91,r\"$h_u$\", fontsize=15)\n",
    "\n",
    "plt.text(1.31,1.5,\"Model area\", fontsize=20)\n",
    "\n",
    "plt.arrow(0.9,0.9, 0.1, 0, width=0.005, clip_on=False,head_width=0.04, color= \"black\")\n",
    "plt.arrow(0.9,0.9, 0, 0.1, width=0.005, clip_on=False,head_width=0.04, color= \"black\")\n",
    "plt.text(1.04,0.84,\"x\", fontsize=15)\n",
    "plt.text(0.835,1.04,\"y\", fontsize=15)\n",
    "\n",
    "ax.plot()\n",
    "plt.show()"
   ]
  },
  {
   "cell_type": "markdown",
   "id": "5746c09a",
   "metadata": {},
   "source": [
    "## Flow conditions within the model\n",
    "Within the model area the following conditions exist:\n",
    "\n",
    "| Condition | Mathematically &nbsp;&nbsp;&nbsp;&nbsp;&nbsp;&nbsp;&nbsp;&nbsp; |\n",
    "| -------- | -------- |\n",
    "| Conversation of mass and volume | $\\nabla^2 h(x,y,t)=0$ |\n",
    "| Steady-State | $\\frac{\\partial h(x,y,t)}{\\partial t}=0$ |\n",
    "\n",
    "\n",
    "\n",
    "\n",
    "The combination of the two conditions leads to the formulation:\n",
    "\n",
    "$\\nabla^2 h(x,y) = \\frac{\\partial^2h}{\\partial x^2} + \\frac{\\partial^2h}{\\partial y^2} = 0$\n",
    "\n",
    "## Boundaries\n",
    "\n",
    "Flow at the boundaries comprises additional conditions through the defined head at each boundary. For example at the leftern boundary where $x=0$ the head must be equal to $h_l$. The same applies to all other boundaries. Mathematically this means:\n",
    "\n",
    "$h(x=0, y) = h_l$\n",
    "\n",
    "$h(x=L, y) = h_r$\n",
    "\n",
    "$h(x, y=0) = h_u$\n",
    "\n",
    "$h(x, y=L) = h_o$"
   ]
  },
  {
   "cell_type": "markdown",
   "id": "13c1ce4e",
   "metadata": {},
   "source": [
    "# Numerical Model"
   ]
  },
  {
   "cell_type": "code",
   "execution_count": 4,
   "id": "6af3a761",
   "metadata": {},
   "outputs": [],
   "source": [
    "# initial conditions for modell\n",
    "\n",
    "name = \"m2\"\n",
    "h_init = 15\n",
    "Nlay = 1\n",
    "N = 101\n",
    "L = 10.0\n",
    "H = 50.0\n"
   ]
  },
  {
   "cell_type": "code",
   "execution_count": 5,
   "id": "7ad6e1e9",
   "metadata": {},
   "outputs": [],
   "source": [
    "\n",
    "\n",
    "\n",
    "def modflow(h_l, h_r,h_o,h_u,k):\n",
    "    # Create simulation object\n",
    "\n",
    "    sim = flopy.mf6.MFSimulation(\n",
    "        sim_name=name, exe_name=\"/home/grabow/modflow6/mf6\", version=\"mf6\", sim_ws=\".\"\n",
    "    )\n",
    "\n",
    "    # Create temporal discretization object\n",
    "\n",
    "    tdis = flopy.mf6.ModflowTdis(\n",
    "        sim, pname=\"tdis\", time_units=\"DAYS\", nper=1, perioddata=[(1.0, 1, 1.0)]\n",
    "    )\n",
    "\n",
    "\n",
    "    # Create iterative model solution\n",
    "    ims = flopy.mf6.ModflowIms(\n",
    "        sim,\n",
    "        pname=\"ims\",\n",
    "        complexity=\"SIMPLE\",\n",
    "        linear_acceleration=\"BICGSTAB\",\n",
    "    )\n",
    "\n",
    "    # Create groundwater flow model\n",
    "\n",
    "    model_nam_file = f\"{name}.nam\"\n",
    "    gwf = flopy.mf6.ModflowGwf(\n",
    "        sim,\n",
    "        modelname=name,\n",
    "        model_nam_file=model_nam_file,\n",
    "        save_flows=True,\n",
    "        newtonoptions=\"NEWTON UNDER_RELAXATION\",\n",
    "    )\n",
    "\n",
    "    # Create discretization package\n",
    "\n",
    "    bot = np.linspace(-H / Nlay, -H, Nlay)\n",
    "    delrow = delcol = L / (N - 1)\n",
    "    dis = flopy.mf6.ModflowGwfdis(\n",
    "        gwf,\n",
    "        nlay=Nlay,\n",
    "        nrow=N,\n",
    "        ncol=N,\n",
    "        delr=delrow,\n",
    "        delc=delcol,\n",
    "        top=0.0,\n",
    "        botm=bot,\n",
    "    )\n",
    "\n",
    "    # Create initial condition package\n",
    "\n",
    "    start = h_init * np.ones((Nlay, N, N))\n",
    "    ic = flopy.mf6.ModflowGwfic(gwf, pname=\"ic\", strt=start)\n",
    "\n",
    "    # Create node property flow package\n",
    "\n",
    "    npf = flopy.mf6.ModflowGwfnpf(\n",
    "        gwf,\n",
    "        icelltype=1,\n",
    "        k=k\n",
    "    )\n",
    "    \n",
    "    # Create constant head\n",
    "\n",
    "    chd_rec = []\n",
    "    layer = 0\n",
    "    for row_col in range(0, N):\n",
    "        chd_rec.append(((layer, row_col, 0), h_l))\n",
    "        chd_rec.append(((layer, row_col, N - 1), h_r))\n",
    "        if row_col != 0 and row_col != N - 1:\n",
    "            chd_rec.append(((layer, 0, row_col), h_o))\n",
    "            chd_rec.append(((layer, N - 1, row_col), h_u))\n",
    "\n",
    "    chd = flopy.mf6.ModflowGwfchd(\n",
    "        gwf,\n",
    "        stress_period_data=chd_rec,\n",
    "    )\n",
    "    \n",
    "    # Create output control\n",
    "\n",
    "    headfile = f\"{name}.hds\"\n",
    "    head_filerecord = [headfile]\n",
    "    budgetfile = f\"{name}.cbb\"\n",
    "    budget_filerecord = [budgetfile]\n",
    "    saverecord = [(\"HEAD\", \"ALL\"), (\"BUDGET\", \"ALL\")]\n",
    "    printrecord = [(\"HEAD\", \"LAST\")]\n",
    "    oc = flopy.mf6.ModflowGwfoc(\n",
    "        gwf,\n",
    "        saverecord=saverecord,\n",
    "        head_filerecord=head_filerecord,\n",
    "        budget_filerecord=budget_filerecord,\n",
    "        printrecord=printrecord,\n",
    "    )\n",
    "    \n",
    "    # Write the simulation files\n",
    "    sim.write_simulation(silent=True)\n",
    "    \n",
    "    # Run the simulation\n",
    "    success, buff = sim.run_simulation(silent=True)\n",
    "    if not success:\n",
    "        raise Exception(\"MODFLOW 6 did not terminate normally.\")\n",
    "\n",
    "    # Read and plot output data\n",
    "    h = gwf.output.head().get_data(kstpkper=(0, 0))\n",
    "    x = y = np.linspace(0, L, N)\n",
    "    y = y[::-1]\n",
    "    vmin, vmax = 0, 50\n",
    "    contour_intervals = np.arange(0, 50, 1.0)\n",
    "\n",
    "    fig = plt.figure(figsize=(10,10))\n",
    "    ax = plt.subplot(111)\n",
    "\n",
    "    ax.set_title(\"Hydraulic Head Distribution\")\n",
    "    modelmap = flopy.plot.PlotMapView(model=gwf, ax=ax)\n",
    "    pa = modelmap.plot_array(h, vmin=vmin, vmax=vmax)\n",
    "    quadmesh = modelmap.plot_bc(\"CHD\")\n",
    "    linecollection = modelmap.plot_grid(lw=0.5, color=\"0.5\")\n",
    "    contours = modelmap.contour_array(\n",
    "        h,\n",
    "        levels=contour_intervals,\n",
    "        colors=\"black\",\n",
    "    )\n",
    "    ax.clabel(contours, fmt=\"%2.1f\")\n",
    "    cb = plt.colorbar(pa, shrink=0.5, ax=ax)\n",
    "    cb.set_label('Hydraulic Head (m)')#, rotation=270)\n",
    "    plt.show()"
   ]
  },
  {
   "cell_type": "code",
   "execution_count": 6,
   "id": "d95d6c53",
   "metadata": {},
   "outputs": [
    {
     "name": "stderr",
     "output_type": "stream",
     "text": [
      "/home/grabow/anaconda3/envs/flopy/lib/python3.10/site-packages/ipykernel/pylab/backend_inline.py:10: DeprecationWarning: `ipykernel.pylab.backend_inline` is deprecated, directly use `matplotlib_inline.backend_inline`\n",
      "  warnings.warn(\n"
     ]
    },
    {
     "data": {
      "application/vnd.jupyter.widget-view+json": {
       "model_id": "3144f1f5772e4518869a5f458ec9a00c",
       "version_major": 2,
       "version_minor": 0
      },
      "text/plain": [
       "interactive(children=(FloatSlider(value=10.0, description='h,links:', max=50.0, step=1.0), FloatSlider(value=5…"
      ]
     },
     "metadata": {},
     "output_type": "display_data"
    },
    {
     "data": {
      "text/plain": [
       "<function __main__.modflow(h_l, h_r, h_o, h_u, k)>"
      ]
     },
     "execution_count": 6,
     "metadata": {},
     "output_type": "execute_result"
    }
   ],
   "source": [
    "# Start interactive plot\n",
    "\n",
    "interact(modflow,\n",
    "         h_l=widgets.FloatSlider(value=10,min=0, max=50, step=1,description='h,links:', disabled=False),\n",
    "         h_r=widgets.FloatSlider(value=5,min=0, max=50, step=1,description='h,rechts:', disabled=False),\n",
    "         h_o=widgets.FloatSlider(value=15,min=0, max=50, step=1,description='h,oben:', disabled=False),\n",
    "         h_u=widgets.FloatSlider(value=5,min=0, max=50, step=1,description='h,unten:', disabled=False),\n",
    "         k=widgets.FloatLogSlider(value=1E-4,min=-11, max=-1, step=0.5,description='k', disabled=False))\n"
   ]
  },
  {
   "cell_type": "markdown",
   "id": "2d9235f0",
   "metadata": {},
   "source": [
    "Have a look at the [listing file](./m2.lst)"
   ]
  },
  {
   "cell_type": "markdown",
   "id": "732aaf2e",
   "metadata": {},
   "source": [
    "<hr>\n",
    "&copy; 2022 | Thomas Reimann\n",
    "<a rel=\"license\" href=\"http://creativecommons.org/licenses/by/4.0/\"><img style=\"float: right\" alt=\"Creative Commons Lizenzvertrag\" style=\"border-width:0\" src=\"https://i.creativecommons.org/l/by/4.0/88x31.png\" /></a>"
   ]
  }
 ],
 "metadata": {
  "kernelspec": {
   "display_name": "Python 3 (ipykernel)",
   "language": "python",
   "name": "python3"
  },
  "language_info": {
   "codemirror_mode": {
    "name": "ipython",
    "version": 3
   },
   "file_extension": ".py",
   "mimetype": "text/x-python",
   "name": "python",
   "nbconvert_exporter": "python",
   "pygments_lexer": "ipython3",
   "version": "3.10.5"
  }
 },
 "nbformat": 4,
 "nbformat_minor": 5
}