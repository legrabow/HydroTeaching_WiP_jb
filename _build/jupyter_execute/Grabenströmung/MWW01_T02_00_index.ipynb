{
 "cells": [
  {
   "cell_type": "markdown",
   "metadata": {},
   "source": [
    "<img src='../IMG/TUD_logo.png' align='right' width='15%'></img>\n",
    "\n",
    "[Zurück zur Übersicht MWW01 - Grundwasserbewirtschaftung mit Computermodellen](../MWW01_00_index.ipynb)"
   ]
  },
  {
   "cell_type": "markdown",
   "metadata": {},
   "source": [
    "# MWW 01 `Grundwasserbewirtschaftung mit Computermodellen`"
   ]
  },
  {
   "cell_type": "markdown",
   "metadata": {},
   "source": [
    "## (Thema 02) Konzeptionelle Modelle in der `Grundwasserbewirtschaftung`"
   ]
  },
  {
   "cell_type": "markdown",
   "metadata": {},
   "source": [
    "<hr>"
   ]
  },
  {
   "cell_type": "markdown",
   "metadata": {},
   "source": [
    "## Worum geht es in diesem Abschnitt?\n",
    "\n",
    "Das Lehrmaterial gibt wichtige Anwendungen / Beispiele der Lehrveranstaltung(en) wieder und ergänzt diese um weitere interaktive und multimediale Inhalte.\n",
    "\n",
    "Mit dem Lehrmaterial möchten wir Sie motivieren, sich mit dem interessanten und herausfordernden Thema `Konzeptionelle Modelle`  auseinander zu setzen. Das Material erlaubt das Lernen im eigenen Tempo und entprechend individuellen Interessen.\n",
    "\n",
    "Viel Erfolg und Viel Spass!\n",
    "\n",
    "## Inhalt\n",
    "\n",
    "Die interaktiven Dokumente sind wie folgt strukturiert:\n",
    "\n",
    "* [1D Strömung, homogen und ungespannt](MWW01_T02_1DGraben_unconfined.ipynb)\n",
    "* [1D Strömung, homogen und ungespannt - mit Aufgaben](MWW01_T02_1DGraben_unconfined_Aufgabe.ipynb)\n",
    "* [1D Strömung, homogen und ungespannt, Demo Randbedingung 3. Art](MWW01_T02_BC3.ipynb)"
   ]
  },
  {
   "cell_type": "markdown",
   "metadata": {},
   "source": [
    "<hr>"
   ]
  },
  {
   "cell_type": "markdown",
   "metadata": {},
   "source": [
    "#### Autoren\n",
    "* [Thomas Reimann](https://tu-dresden.de/bu/umwelt/hydro/igw) | wiss. Mitarbeiter am Institut für Grundwasserwirtschaft der TU Dresden\n",
    "* [Rudolf Liedl](https://tu-dresden.de/bu/umwelt/hydro/igw) | Professor (nicht im aktiven Dienst) am Institut für Grundwasserwirtschaft der TU Dresden\n",
    "\n",
    "####  Zugang zu den interaktiven Dokumenten\n",
    "Die interaktiven Jupyter Notebooks sind verfügbar auf [GitHub](https://github.com/ThoReimann/HydroTeaching)."
   ]
  },
  {
   "cell_type": "markdown",
   "metadata": {},
   "source": [
    "<hr>\n",
    "&copy; 2021 | Thomas Reimann\n",
    "<a rel=\"license\" href=\"http://creativecommons.org/licenses/by/4.0/\"><img style=\"float: right\" alt=\"Creative Commons Lizenzvertrag\" style=\"border-width:0\" src=\"https://i.creativecommons.org/l/by/4.0/88x31.png\" /></a>"
   ]
  },
  {
   "cell_type": "code",
   "execution_count": null,
   "metadata": {},
   "outputs": [],
   "source": []
  }
 ],
 "metadata": {
  "kernelspec": {
   "display_name": "Python 3 (ipykernel)",
   "language": "python",
   "name": "python3"
  },
  "language_info": {
   "codemirror_mode": {
    "name": "ipython",
    "version": 3
   },
   "file_extension": ".py",
   "mimetype": "text/x-python",
   "name": "python",
   "nbconvert_exporter": "python",
   "pygments_lexer": "ipython3",
   "version": "3.10.5"
  }
 },
 "nbformat": 4,
 "nbformat_minor": 2
}