{
 "cells": [
  {
   "cell_type": "markdown",
   "id": "ca998251",
   "metadata": {},
   "source": [
    "# Übersicht\n",
    "\n",
    "## Visualisierung verschiedener Fließbedingungen\n",
    "\n",
    "[1D Grabenströmung, ungespannt, RB. 1.Art](MWW01_T02_1DGraben_unconfined_Visualisierung.ipynb)\n",
    "\n",
    "[1D Grabenströmung, ungespannt, RB. 3.Art](MWW01_T02_BC3.ipynb)\n",
    "\n",
    "[2D Grabenströmung, ungespannt, RB. 1.Art](2D_Grabenstroemung.ipynb)\n",
    "\n",
    "\n",
    "## Konzeptionelles Modell\n",
    "\n",
    "[Kozeptionelles Modell anhand der 1D Grabenströmung, ungespannt, RB. 1.Art](MWW01_T02_1DGraben_unconfined_KonzeptionellesModell.ipynb)\n",
    "\n",
    "\n",
    "## Kalibrierung\n",
    "\n",
    "[Kalibrierung anhand der 1D Grabenströmung, ungespannt, RB. 1.Art](MWW01_T02_1DGraben_unconfined_Kalibrierung.ipynb)"
   ]
  },
  {
   "cell_type": "code",
   "execution_count": null,
   "id": "318cf379",
   "metadata": {},
   "outputs": [],
   "source": []
  }
 ],
 "metadata": {
  "kernelspec": {
   "display_name": "Python 3 (ipykernel)",
   "language": "python",
   "name": "python3"
  },
  "language_info": {
   "codemirror_mode": {
    "name": "ipython",
    "version": 3
   },
   "file_extension": ".py",
   "mimetype": "text/x-python",
   "name": "python",
   "nbconvert_exporter": "python",
   "pygments_lexer": "ipython3",
   "version": "3.10.4"
  }
 },
 "nbformat": 4,
 "nbformat_minor": 5
}
