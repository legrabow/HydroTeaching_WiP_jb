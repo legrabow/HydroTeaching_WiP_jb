{
 "cells": [
  {
   "cell_type": "markdown",
   "id": "2181b3be",
   "metadata": {},
   "source": [
    "# Trennstromlinie"
   ]
  },
  {
   "cell_type": "markdown",
   "id": "bec9fb4b",
   "metadata": {
    "tags": [
     "remove-cell"
    ]
   },
   "source": [
    "<img src='../IMG/TUD_logo.png' align='right' width='15%'></img>"
   ]
  },
  {
   "cell_type": "markdown",
   "id": "7ee684d9",
   "metadata": {},
   "source": [
    "<img src='abstracted_map_v3.png'></img>"
   ]
  },
  {
   "cell_type": "code",
   "execution_count": 1,
   "id": "11a42dc8",
   "metadata": {
    "tags": [
     "thebe-init",
     "hide-cell"
    ]
   },
   "outputs": [],
   "source": [
    "import matplotlib.pyplot as plt\n",
    "import numpy as np\n",
    "from ipywidgets import *\n",
    "import time"
   ]
  },
  {
   "cell_type": "code",
   "execution_count": 3,
   "id": "34f1ba60",
   "metadata": {
    "tags": [
     "thebe-init",
     "hide-cell"
    ]
   },
   "outputs": [
    {
     "data": {
      "application/vnd.jupyter.widget-view+json": {
       "model_id": "ea176d28d4304c38b84674a49c4c16d0",
       "version_major": 2,
       "version_minor": 0
      },
      "text/plain": [
       "interactive(children=(Dropdown(description='Aquifer Type', options=('Confined', 'Unconfined'), value='Confined…"
      ]
     },
     "metadata": {},
     "output_type": "display_data"
    },
    {
     "data": {
      "text/plain": [
       "<function __main__.interactive_plot(flow_type)>"
      ]
     },
     "execution_count": 3,
     "metadata": {},
     "output_type": "execute_result"
    }
   ],
   "source": [
    "def ymax_conf(Q, K, i, b):\n",
    "    \"\"\"\n",
    "    Get the \n",
    "    \"\"\"\n",
    "    ymax = Q/(2.*K*np.abs(i)*b)\n",
    "    return ymax\n",
    "\n",
    "def x0_conf(Q, K, i, b):\n",
    "    x0 = -Q/(2.*np.pi*K*i*b)\n",
    "    return x0\n",
    "\n",
    "def ymax_unconf(Q, L, K, h1, h2):\n",
    "    ymax = Q*L/(K*(h1**2-h2**2))\n",
    "    return ymax\n",
    "    \n",
    "def x0_unconf(Q, L, K, h1, h2):\n",
    "    x0 = -Q*L/(np.pi*K*(h1**2-h2**2))\n",
    "    return x0\n",
    "\n",
    "def TSL_conf(Q, K, i, b, dist_iso, plot_coor):\n",
    "    h2 = h1 - i * (x1 - x2)\n",
    "    L = x1 - x2\n",
    "\n",
    "    ymax = ymax_conf(Q, K, i, b)\n",
    "    #x0 = x0_conf(Q, K, i, b)\n",
    "    y = np.arange(-ymax, ymax, 0.1)\n",
    "    x = y/(np.tan(2*np.pi*K*i*b*y/Q))\n",
    "    \n",
    "    \n",
    "    h_iso = isohypsen_conf(h1, h2, x1, x2, K, Q, b, x_iso_tilted, y_iso_tilted)\n",
    "\n",
    "    plot(x,y, x_iso_tilted, y_iso_tilted, h_iso, dist_iso, plot_coor)\n",
    "\n",
    "    \n",
    "def TSL_unconf(Q, K, i, dist_iso, plot_coor):\n",
    "    h2 = h1 - i * (x1 - x2)\n",
    "    L = x1 - x2\n",
    "\n",
    "    ymax = ymax_unconf(Q, L, K, h1, h2)\n",
    "    #x0 = x0_unconf(Q, L, K, h1, h2)\n",
    "    y = np.arange(-ymax, ymax, 0.1)\n",
    "    x = y/(np.tan(np.pi*K*(h1**2-h2**2)*y/(Q * L)))\n",
    "    \n",
    "    h_iso = isohypsen_unconf(h1, h2, x1, x2, K, Q, x_iso_tilted, y_iso_tilted)\n",
    "\n",
    "    plot(x,y, x_iso_tilted, y_iso_tilted, h_iso, dist_iso, plot_coor)\n",
    "\n",
    "def isohypsen_conf(h1, h2, x1, x2, K, Q, b, x, y):\n",
    "    h_r1 = 0\n",
    "    h_iso = (h2-h1)*(x-x1)/(x2-x1) +h1 + Q * np.log(np.sqrt(x**2+y**2) / r1) / (2 * np.pi * K * b) + h_r1\n",
    "    return h_iso\n",
    "\n",
    "def isohypsen_unconf(h1, h2, x1, x2, K, Q, x, y):\n",
    "    h_r1 = 0\n",
    "    h_iso = (h2-h1)*(x-x1)/(x2-x1) +h1 + np.sqrt(Q * np.log(np.sqrt(x**2+y**2) / r1) / (np.pi * K) + h_r1**2)\n",
    "    return h_iso\n",
    "   \n",
    "\n",
    "def plot(x,y, x_iso, y_iso, h_iso, dist_iso, plot_coor):\n",
    "    tsl_normal = np.vstack([x,y])\n",
    "    iso_normal = np.stack([x_iso,y_iso], axis=2)\n",
    "    iso_tilted= np.tensordot(rotation_matrix, iso_normal, axes=([1],[2]))\n",
    "    tsl_tilted = rotation_matrix.dot(tsl_normal)\n",
    "    \n",
    "    # Erstellen der Figure und der Axes\n",
    "    fig = plt.figure(figsize=(20,20))\n",
    "    ax = plt.subplot(111)\n",
    "\n",
    "    # Bild in die Axes einfügen\n",
    "    ax.imshow(img)\n",
    "    # Grid in die Box einfügen\n",
    "    ax_child = ax.inset_axes([pxl_l, pxl_o, pxl_r-pxl_l,pxl_u-pxl_o], transform=ax.transData)\n",
    "    ax_child.patch.set_alpha(0.0)\n",
    "    ax_child.scatter(0,0, s=20)\n",
    "\n",
    "    ax_child.set_xlim([x_min,x_max])\n",
    "    ax_child.set_ylim([y_min,y_max])\n",
    "\n",
    "    ax_child.plot(tsl_tilted[0,:], tsl_tilted[1,:], color=\"red\")\n",
    "    \n",
    "    positions = np.arange(np.ceil(np.min(h_iso)), np.max(h_iso), dist_iso)\n",
    "    ctr = ax_child.contour(iso_tilted[0,:,:], iso_tilted[1,:,:], h_iso, levels=positions, colors=\"blue\")\n",
    "    ax_child.clabel(ctr, ctr.levels, inline=True, fontsize=14)\n",
    "    \n",
    "    if plot_coor:\n",
    "        ax_child.arrow(y_arrow_start[0][0],y_arrow_start[1][0],\n",
    "                       y_arrow_end[0][0] - y_arrow_start[0][0],\n",
    "                       y_arrow_end[1][0] - y_arrow_start[1][0],\n",
    "                       head_width=200, width=20, color=\"black\")\n",
    "        ax_child.arrow(x_arrow_start[0][0],x_arrow_start[1][0],\n",
    "                       x_arrow_end[0][0] - x_arrow_start[0][0],\n",
    "                       x_arrow_end[1][0] - x_arrow_start[1][0],\n",
    "                       head_width=200, width=20, color=\"black\")\n",
    "    #fig.plot(ax=ax_child)\n",
    "\n",
    "    # Ausschalten aller automatischen Axenbeschriftungen\n",
    "    ax.axis(\"off\")\n",
    "    ax_child.axis(\"off\")\n",
    "    return fig, ax\n",
    "\n",
    "def fmt(x):\n",
    "    s = f\"{x:.1f}\"\n",
    "    if s.endswith(\"0\"):\n",
    "        s = f\"{x:.0f}\"\n",
    "    return rf\"{s}\" if plt.rcParams[\"text.usetex\"] else f\"{s}\"\n",
    "\n",
    "def interactive_plot(flow_type):\n",
    "    wgts = {\"Q\":widgets.FloatSlider(value=0.01,min=0, max=1, step=0.01, description=r\"Well Discharge, $\\frac{m^3}{s}$\",style= {'description_width': 'initial'}),\n",
    "               \"K\":widgets.FloatLogSlider(value=6E-4,base=10,min=-6, max=-2, step=0.1,readout=True,readout_format='e',description=r\"Hydraulic Conductivity, $\\frac{m}{s}$\",style= {'description_width': 'initial'}),\n",
    "               \"i\":widgets.FloatSlider(value=0.0017,min=-0.006, max=0.006, step=0.0001,description=\"Background Gradient\",style= {'description_width': 'initial'}, readout_format='.4f'),\n",
    "               \"dist_iso\":widgets.FloatSlider(value=1,min=0.5, max=10, step=0.5,description=\"Resolution of Isohypses\",style= {'description_width': 'initial'}),\n",
    "               \"plot_coor\":widgets.Checkbox(False,description=\"Add coordinate axis\",style= {'description_width': 'initial'}),\n",
    "               \"continuous_update\":False}\n",
    "    if flow_type == \"Confined\":\n",
    "        func = TSL_conf\n",
    "        wgts[\"b\"] = widgets.FloatSlider(value=120,min=1, max=200, step=1,description=\"Aquifer thickness, m\",style= {'description_width': 'initial'})\n",
    "    elif flow_type == \"Unconfined\":\n",
    "        func = TSL_unconf\n",
    "        \n",
    "    interact_manual(func, **wgts)\n",
    "    \n",
    "    \n",
    "theta = np.radians(29)\n",
    "c, s = np.cos(theta), np.sin(theta)\n",
    "rotation_matrix = np.array(((c, -s), (s, c)))\n",
    "inv_theta = np.radians(-29)\n",
    "c, s = np.cos(inv_theta), np.sin(inv_theta)\n",
    "inv_rotation_matrix = np.array(((c, -s), (s, c)))\n",
    "\n",
    "readout_format='.3f'\n",
    "y_arrow_end = rotation_matrix.dot([[0],[2000]])\n",
    "y_arrow_start = rotation_matrix.dot([[0],[-2000]])\n",
    "x_arrow_start = rotation_matrix.dot([[-4000],[0]])\n",
    "x_arrow_end = rotation_matrix.dot([[2000],[0]])\n",
    "\n",
    "\n",
    "xscale = 1. * 2000 / (0.48 + 0.35)\n",
    "yscale = 1. * 2000 / (0.125 + 0.265)\n",
    "x_min = -4 * xscale\n",
    "x_max = 1.18 * xscale\n",
    "y_min = -1.07 * yscale\n",
    "y_max = 1 * yscale\n",
    "x_iso, y_iso = np.meshgrid(np.arange(x_min, x_max, 10), np.arange(y_min, y_max, 10))\n",
    "iso_normal = np.stack([x_iso,y_iso], axis=2)\n",
    "iso_tilted= np.tensordot(inv_rotation_matrix, iso_normal, axes=([1],[2]))\n",
    "x_iso_tilted = iso_tilted[0,:,:]\n",
    "y_iso_tilted = iso_tilted[1,:,:]\n",
    "\n",
    "r1 = 10000\n",
    "\n",
    "pxl_l = 27\n",
    "pxl_o = 20\n",
    "pxl_r = 2520\n",
    "pxl_u = 2125\n",
    "\n",
    "x1 = -200\n",
    "x2 = 400\n",
    "h1 = 61\n",
    "\n",
    "\n",
    "layout = widgets.Layout(width='auto', height='40px')\n",
    "\n",
    "# Einladen der Draufsicht\n",
    "img = plt.imread(\"abstracted_map_v3.png\")"
   ]
  },
  {
   "cell_type": "code",
   "execution_count": null,
   "id": "f2ad3c77",
   "metadata": {
    "tags": [
     "thebe-init"
    ]
   },
   "outputs": [],
   "source": [
    "interact(interactive_plot, \n",
    "         flow_type = widgets.Dropdown(options=[\"Confined\", \"Unconfined\"],value=\"Confined\", description=\"Aquifer Type\"),\n",
    "        continuous_update=False)"
   ]
  }
 ],
 "metadata": {
  "celltoolbar": "Tags",
  "kernelspec": {
   "display_name": "Python 3 (ipykernel)",
   "language": "python",
   "name": "python3"
  },
  "language_info": {
   "codemirror_mode": {
    "name": "ipython",
    "version": 3
   },
   "file_extension": ".py",
   "mimetype": "text/x-python",
   "name": "python",
   "nbconvert_exporter": "python",
   "pygments_lexer": "ipython3",
   "version": "3.10.5"
  }
 },
 "nbformat": 4,
 "nbformat_minor": 5
}
